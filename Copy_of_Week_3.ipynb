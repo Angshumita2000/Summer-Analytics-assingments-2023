{
  "cells": [
    {
      "cell_type": "markdown",
      "metadata": {
        "id": "view-in-github",
        "colab_type": "text"
      },
      "source": [
        "<a href=\"https://colab.research.google.com/github/Angshumita2000/Summer-Analytics-assingments-2023/blob/main/Copy_of_Week_3.ipynb\" target=\"_parent\"><img src=\"https://colab.research.google.com/assets/colab-badge.svg\" alt=\"Open In Colab\"/></a>"
      ]
    },
    {
      "cell_type": "markdown",
      "source": [
        "# Week 3 SA"
      ],
      "metadata": {
        "datalore": {
          "node_id": "zGa7mCHaDDruHtkm7dEPtv",
          "type": "MD",
          "hide_input_from_viewers": true,
          "hide_output_from_viewers": true
        },
        "id": "q-937VT7vnUf"
      }
    },
    {
      "cell_type": "markdown",
      "source": [
        "Hey Everyone!!\n",
        "We hope that you are excited to apply your newly acquired knowledge and test it on this notebook.\n",
        "In this assignment, we will be walking through creating an email classifier based the content the mail has."
      ],
      "metadata": {
        "datalore": {
          "node_id": "U1ZcRPN3LUr8T0AFox9HNj",
          "type": "MD",
          "hide_input_from_viewers": true,
          "hide_output_from_viewers": true
        },
        "id": "QDLqeIkMvnUo"
      }
    },
    {
      "cell_type": "markdown",
      "source": [
        "## About the data"
      ],
      "metadata": {
        "datalore": {
          "node_id": "z4auZFCdOYmoX3bMIniLkV",
          "type": "MD",
          "hide_input_from_viewers": true,
          "hide_output_from_viewers": true
        },
        "id": "hTJBkmP3vnUq"
      }
    },
    {
      "cell_type": "markdown",
      "source": [
        "The data \"email.csv\" has a few rows and about 3K columns including <b>Email_no.</b> and <b>spam</b>. <br>\n",
        "Email_no. is like a unique id for an email and spam denotes whether the given mail is a spam or not (0 = not spam, 1 = spam)<br>\n",
        "Rest of the columns are words in english with the values being equal to the frequency of that word in the email.\n",
        "<br>Our goal is to predict whether the given mail is spam or not"
      ],
      "metadata": {
        "datalore": {
          "node_id": "oqqW6dUiQklEDKoCWXWv5O",
          "type": "MD",
          "hide_input_from_viewers": true,
          "hide_output_from_viewers": true
        },
        "id": "-7wluufnvnUr"
      }
    },
    {
      "cell_type": "markdown",
      "source": [
        "## Importing useful libraries"
      ],
      "metadata": {
        "datalore": {
          "node_id": "JAyWVZVGuGxuIiAHDsq61b",
          "type": "MD",
          "hide_input_from_viewers": true,
          "hide_output_from_viewers": true
        },
        "id": "JKBeDbuhvnUs"
      }
    },
    {
      "cell_type": "code",
      "source": [
        "import pandas as pd\n",
        "import numpy as np"
      ],
      "execution_count": null,
      "outputs": [],
      "metadata": {
        "datalore": {
          "node_id": "MGF6Kw4xf8SePOYMc0lIF1",
          "type": "CODE",
          "hide_input_from_viewers": true,
          "hide_output_from_viewers": true
        },
        "id": "ucXpOQvcvnUt"
      }
    },
    {
      "cell_type": "markdown",
      "source": [
        "## Loading the data\n",
        "### If you are using Datalore, you may use the csv file directly. Otherwise you may download it from <a href = \"https://drive.google.com/file/d/1OxJ6SSuPypg-AfLbMRl0O9So9aDDNzbC/view?usp=sharing\">this link</a>"
      ],
      "metadata": {
        "datalore": {
          "node_id": "8QlDKKKCWpgnkoXHPYswvd",
          "type": "MD",
          "hide_input_from_viewers": true,
          "hide_output_from_viewers": true
        },
        "id": "Sg4bq7OHvnUx"
      }
    },
    {
      "cell_type": "code",
      "source": [
        "df = pd.read_csv('/content/emails.csv')"
      ],
      "execution_count": null,
      "outputs": [],
      "metadata": {
        "datalore": {
          "node_id": "awQRzUu3t4PZmOtlTbPn44",
          "type": "CODE",
          "hide_input_from_viewers": true,
          "hide_output_from_viewers": true
        },
        "id": "5hhWeNZ5vnUz"
      }
    },
    {
      "cell_type": "markdown",
      "source": [
        "## Describe the data and generate some basic insights unsing methods like .info"
      ],
      "metadata": {
        "datalore": {
          "node_id": "ex2R3oVXRwyZaziX9HkcGp",
          "type": "MD",
          "hide_input_from_viewers": true,
          "hide_output_from_viewers": true
        },
        "id": "_q91dndzvnU0"
      }
    },
    {
      "cell_type": "code",
      "source": [
        "df.head()\n",
        "df.info()\n",
        "df.isna().sum()"
      ],
      "execution_count": null,
      "outputs": [
        {
          "output_type": "stream",
          "name": "stdout",
          "text": [
            "<class 'pandas.core.frame.DataFrame'>\n",
            "RangeIndex: 5172 entries, 0 to 5171\n",
            "Columns: 3002 entries, Email No. to Prediction\n",
            "dtypes: int64(3001), object(1)\n",
            "memory usage: 118.5+ MB\n"
          ]
        },
        {
          "output_type": "execute_result",
          "data": {
            "text/plain": [
              "Email No.     0\n",
              "the           0\n",
              "to            0\n",
              "ect           0\n",
              "and           0\n",
              "             ..\n",
              "military      0\n",
              "allowing      0\n",
              "ff            0\n",
              "dry           0\n",
              "Prediction    0\n",
              "Length: 3002, dtype: int64"
            ]
          },
          "metadata": {},
          "execution_count": 8
        }
      ],
      "metadata": {
        "datalore": {
          "node_id": "yfyNpm25jyzCNCFOWtDwlM",
          "type": "CODE",
          "hide_input_from_viewers": true,
          "hide_output_from_viewers": true
        },
        "id": "LdDpMUlBvnU1",
        "outputId": "57d64b20-937b-4425-d4d0-de9583add9d0",
        "colab": {
          "base_uri": "https://localhost:8080/"
        }
      }
    },
    {
      "cell_type": "markdown",
      "source": [
        "## Looking at the data"
      ],
      "metadata": {
        "datalore": {
          "node_id": "zvjpKUkrIVkahpty2eoRva",
          "type": "MD",
          "hide_input_from_viewers": true,
          "hide_output_from_viewers": true
        },
        "id": "yGfA_XmtvnU6"
      }
    },
    {
      "cell_type": "code",
      "source": [
        "# Plot histogram to visualize the top 5 common words in spam mail and non-spam mails seperately.\n",
        "from matplotlib import pyplot as plt\n",
        "import numpy as np\n",
        "spam_email=df[df[\"spam\"]==1]\n",
        "non_spam_email=df[df[\"spam\"]==0]\n",
        "spam_word_freq=spam_email.drop(['Email No.','spam'],axis=1).sum().sort_values(ascending=False)[0:5]\n",
        "non_spam_word_freq=non_spam_email.drop(['Email No.','spam'],axis=1).sum().sort_values(ascending=False)[0:5]\n",
        "\n",
        "X=list(spam_word_freq.keys())\n",
        "freq1=[12873,10324,9473,8896,7818]\n",
        "plt.bar(X,freq1,width = 0.4)\n",
        "plt.title('Most frequent Spam word')\n"
      ],
      "execution_count": null,
      "outputs": [
        {
          "output_type": "execute_result",
          "data": {
            "text/plain": [
              "Text(0.5, 1.0, 'Most frequent Spam word')"
            ]
          },
          "metadata": {},
          "execution_count": 14
        },
        {
          "output_type": "display_data",
          "data": {
            "text/plain": [
              "<Figure size 640x480 with 1 Axes>"
            ],
            "image/png": "[encoded data removed]"
          },
          "metadata": {}
        }
      ],
      "metadata": {
        "datalore": {
          "node_id": "CFY6hpEHnTNc05xveVXitg",
          "type": "CODE",
          "hide_input_from_viewers": true,
          "hide_output_from_viewers": true
        },
        "id": "SjTSN0OEvnU7",
        "outputId": "14acc2b5-04cb-4198-f3e3-73472ae17ca8",
        "colab": {
          "base_uri": "https://localhost:8080/",
          "height": 469
        }
      }
    },
    {
      "cell_type": "code",
      "source": [
        "y=list(non_spam_word_freq.keys())\n",
        "freq2=[424653,302547,277415,273874,240696]\n",
        "plt.bar(y,freq2,width = 0.4)\n",
        "plt.title('Most frequent Non- Spam word')\n"
      ],
      "metadata": {
        "colab": {
          "base_uri": "https://localhost:8080/",
          "height": 469
        },
        "id": "ah7JntHym1nM",
        "outputId": "9e953181-87c0-4584-9f2d-266d1db5ed30"
      },
      "execution_count": null,
      "outputs": [
        {
          "output_type": "execute_result",
          "data": {
            "text/plain": [
              "Text(0.5, 1.0, 'Most frequent Non- Spam word')"
            ]
          },
          "metadata": {},
          "execution_count": 15
        },
        {
          "output_type": "display_data",
          "data": {
            "text/plain": [
              "<Figure size 640x480 with 1 Axes>"
            ],
            "image/png": "[encoded data removed]"
          },
          "metadata": {}
        }
      ]
    },
    {
      "cell_type": "markdown",
      "source": [],
      "metadata": {
        "id": "HZ8kKKjJUvvi"
      }
    },
    {
      "cell_type": "markdown",
      "source": [
        "## Figuring out some comparatively more important features"
      ],
      "metadata": {
        "datalore": {
          "node_id": "C3PCd8f8vDpy1xh1S0jLnr",
          "type": "MD",
          "hide_input_from_viewers": true,
          "hide_output_from_viewers": true
        },
        "id": "-1BucFIcvnU8"
      }
    },
    {
      "cell_type": "code",
      "source": [
        "# There are 3K rows given in this dataset, can you think of some method to reduce the number of columns in the dataset?\n",
        "# Try taking only top 1.5K that will comprise of some of the most \"deciding factors\"\n",
        " # to have significant covariates we can use forward selection method to find which covariates are significant\n",
        "cols = sorted(list(df.columns[1:-1]),key=lambda col:(df[col].sum() ),reverse=True)[1498:]\n",
        "df_new = df.drop(cols,axis=1)\n",
        "df_new.head(),df_new.shape\n",
        "\n",
        "\n",
        "\n"
      ],
      "execution_count": null,
      "outputs": [
        {
          "output_type": "execute_result",
          "data": {
            "text/plain": [
              "(  Email No.  the  to  ect  and  for  of    a  you  hou  ...  tue  fire  tm  \\\n",
              " 0   Email 1    0   0    1    0    0   0    2    0    0  ...    0     0   1   \n",
              " 1   Email 2    8  13   24    6    6   2  102    1   27  ...    0     0   0   \n",
              " 2   Email 3    0   0    1    0    0   0    8    0    0  ...    0     0   0   \n",
              " 3   Email 4    0   5   22    0    5   1   51    2   10  ...    0     0   0   \n",
              " 4   Email 5    7   6   17    1    5   2   57    0    9  ...    0     0   0   \n",
              " \n",
              "    del  trial  ended  plain  lay  ff  Prediction  \n",
              " 0    0      0      0      0    0   0           0  \n",
              " 1    0      0      0      0    0   1           0  \n",
              " 2    0      0      0      0    0   0           0  \n",
              " 3    0      0      0      0    0   0           0  \n",
              " 4    0      0      0      0    0   1           0  \n",
              " \n",
              " [5 rows x 1500 columns],\n",
              " (5172, 1500))"
            ]
          },
          "metadata": {},
          "execution_count": 16
        }
      ],
      "metadata": {
        "datalore": {
          "node_id": "2ZKzjK3mKBGSfxz73JEBVF",
          "type": "CODE",
          "hide_input_from_viewers": true,
          "hide_output_from_viewers": true
        },
        "id": "G9l6m-y5vnU8",
        "colab": {
          "base_uri": "https://localhost:8080/"
        },
        "outputId": "af1fb242-6a95-4137-9360-49303ad7a2a7"
      }
    },
    {
      "cell_type": "markdown",
      "source": [
        "## Train - Test Split"
      ],
      "metadata": {
        "datalore": {
          "node_id": "5xGBoaQ3gyqscgTKblwyrX",
          "type": "MD",
          "hide_input_from_viewers": true,
          "hide_output_from_viewers": true
        },
        "id": "PKb5GyjLvnU9"
      }
    },
    {
      "cell_type": "code",
      "source": [
        "# Create trianing and testing data\n",
        "from sklearn.model_selection import train_test_split\n",
        "X = df_new.drop([\"Prediction\",\"Email No.\"], axis=1)\n",
        "Y = df_new[\"Prediction\"]\n",
        "X_train, X_test,Y_train,Y_test = train_test_split(X, Y,test_size=0.2,random_state=42)\n"
      ],
      "execution_count": null,
      "outputs": [],
      "metadata": {
        "datalore": {
          "node_id": "DIQmF7EKujPfytxRg3YCI7",
          "type": "CODE",
          "hide_input_from_viewers": true,
          "hide_output_from_viewers": true
        },
        "id": "ZM1s9D14vnU9"
      }
    },
    {
      "cell_type": "markdown",
      "source": [
        "## Making Predictions using Multinomial NB Classifier"
      ],
      "metadata": {
        "datalore": {
          "node_id": "UN8loYrBwgtFXUDewcXM17",
          "type": "MD",
          "hide_input_from_viewers": true,
          "hide_output_from_viewers": true
        },
        "id": "BlWTSLRivnU_"
      }
    },
    {
      "cell_type": "code",
      "source": [
        "# Feed the train data into multinomial naive bias classifier\n",
        "from sklearn.naive_bayes import MultinomialNB\n",
        "naive_bayes= MultinomialNB()\n",
        "naive_bayes.fit(X_train, Y_train)\n",
        "#make prediction on test data\n",
        "y_pred= naive_bayes.predict(X_test)\n"
      ],
      "execution_count": null,
      "outputs": [],
      "metadata": {
        "datalore": {
          "node_id": "6yp042arvwnqg0LGrmuWWV",
          "type": "CODE",
          "hide_input_from_viewers": true,
          "hide_output_from_viewers": true
        },
        "id": "5AeGZoNfvnU_"
      }
    },
    {
      "cell_type": "code",
      "source": [
        "# Check the model's accuracy of test data and plot the ROC-AUC curve\n",
        "from sklearn.metrics import accuracy_score, roc_curve, roc_auc_score\n",
        "import matplotlib.pyplot as plt\n",
        "# Evaluating accuracy on the test-data\n",
        "y_pred_proba= naive_bayes.predict_proba(X_test)[:,1]\n",
        "y_pred= (y_pred_proba > 0.5).astype(int)\n",
        "accuracy = accuracy_score(Y_test,y_pred)\n",
        "accuracy"
      ],
      "execution_count": null,
      "outputs": [
        {
          "output_type": "execute_result",
          "data": {
            "text/plain": [
              "0.9449275362318841"
            ]
          },
          "metadata": {},
          "execution_count": 19
        }
      ],
      "metadata": {
        "datalore": {
          "node_id": "wtCFPWcgIz4aAXhzKV6wE8",
          "type": "CODE",
          "hide_input_from_viewers": true,
          "hide_output_from_viewers": true
        },
        "id": "5VpR4SUwvnVA",
        "colab": {
          "base_uri": "https://localhost:8080/"
        },
        "outputId": "d0747115-d903-40b1-dd85-209ba8f484cf"
      }
    },
    {
      "cell_type": "code",
      "source": [
        "#Roc Curve\n",
        "fpr,tpr,tresholds = roc_curve(Y_test,y_pred_proba)\n",
        "roc_auc= roc_auc_score(Y_test,y_pred_proba)\n",
        "plt.figure()\n",
        "plt.plot(fpr,tpr, label=\"ROC curve\"%roc_auc)\n",
        "plt.xlabel(\"FPR\")\n",
        "plt.ylabel(\"TPR\")\n",
        "plt.title('ROC curve')\n"
      ],
      "metadata": {
        "colab": {
          "base_uri": "https://localhost:8080/",
          "height": 489
        },
        "id": "ze1Ow-Qz_Vzh",
        "outputId": "6aed5a98-b863-4eba-e1c7-f1a34cb32507"
      },
      "execution_count": null,
      "outputs": [
        {
          "output_type": "execute_result",
          "data": {
            "text/plain": [
              "Text(0.5, 1.0, 'ROC curve')"
            ]
          },
          "metadata": {},
          "execution_count": 20
        },
        {
          "output_type": "display_data",
          "data": {
            "text/plain": [
              "<Figure size 640x480 with 1 Axes>"
            ],
            "image/png": "[encoded data removed]"
          },
          "metadata": {}
        }
      ]
    },
    {
      "cell_type": "markdown",
      "source": [
        "## Plot the confusion Matrix"
      ],
      "metadata": {
        "datalore": {
          "node_id": "g6MfgE1AdZhjcc50qcKU1s",
          "type": "MD",
          "hide_input_from_viewers": true,
          "hide_output_from_viewers": true
        },
        "id": "zPXbI2FzvnVB"
      }
    },
    {
      "cell_type": "code",
      "source": [
        "# Print Confusion Matrix using any 5 words of your choice with the column 'spam'\n",
        "from sklearn.metrics import confusion_matrix\n",
        "confusion_matrix1=confusion_matrix(Y_test,y_pred)\n",
        "print(confusion_matrix1)"
      ],
      "execution_count": null,
      "outputs": [
        {
          "output_type": "stream",
          "name": "stdout",
          "text": [
            "[[696  43]\n",
            " [ 14 282]]\n"
          ]
        }
      ],
      "metadata": {
        "datalore": {
          "node_id": "tiAhIiHk0VOWiKcZY5FLXw",
          "type": "CODE",
          "hide_input_from_viewers": true,
          "hide_output_from_viewers": true
        },
        "id": "wuGHBNqJvnVC",
        "colab": {
          "base_uri": "https://localhost:8080/"
        },
        "outputId": "8722ee59-8f5f-4931-859d-1a0d17049e28"
      }
    },
    {
      "cell_type": "markdown",
      "source": [
        "## Trying out with SVMs"
      ],
      "metadata": {
        "datalore": {
          "node_id": "HF7SHfRsuivs31MT5QEdYU",
          "type": "MD",
          "hide_input_from_viewers": true,
          "hide_output_from_viewers": true
        },
        "id": "0z9QKVKuvnVD"
      }
    },
    {
      "cell_type": "code",
      "source": [
        "# Try using Support Vector Classifier (SVC) from scikit-learn\n",
        "# Apply similar processes as above through SVC i.e., Make prediction, check accuacy and plot confusion matrix\n",
        "from sklearn import svm\n",
        "from sklearn import metrics\n",
        "\n",
        "model2= svm.SVC()\n",
        "model2.fit(X_train,Y_train)\n",
        "y_predict=model2.predict(X_test)\n",
        "metrics.accuracy_score(Y_test,y_predict)\n"
      ],
      "execution_count": null,
      "outputs": [
        {
          "output_type": "execute_result",
          "data": {
            "text/plain": [
              "0.8173913043478261"
            ]
          },
          "metadata": {},
          "execution_count": 22
        }
      ],
      "metadata": {
        "datalore": {
          "node_id": "dharQLmMD4LOZurvenkdom",
          "type": "CODE",
          "hide_input_from_viewers": true,
          "hide_output_from_viewers": true
        },
        "id": "qJNa_nZhvnVD",
        "colab": {
          "base_uri": "https://localhost:8080/"
        },
        "outputId": "feb0abcd-607d-48d7-a379-d3d520efd503"
      }
    },
    {
      "cell_type": "code",
      "source": [
        "confusion_matrix2=confusion_matrix(Y_test,y_predict)\n",
        "print(confusion_matrix2)"
      ],
      "metadata": {
        "colab": {
          "base_uri": "https://localhost:8080/"
        },
        "id": "Njys90WLEBiD",
        "outputId": "8117ff54-3c41-4db6-dd01-81c1b533dca0"
      },
      "execution_count": null,
      "outputs": [
        {
          "output_type": "stream",
          "name": "stdout",
          "text": [
            "[[727  12]\n",
            " [177 119]]\n"
          ]
        }
      ]
    },
    {
      "cell_type": "markdown",
      "source": [
        "## Comparing the models"
      ],
      "metadata": {
        "datalore": {
          "node_id": "rDs3zZmLCuEMozF6sE4QdY",
          "type": "MD",
          "hide_input_from_viewers": true,
          "hide_output_from_viewers": true
        },
        "id": "x-0KHMHZvnVF"
      }
    },
    {
      "cell_type": "code",
      "source": [
        "# Which model performed better?\n",
        "# Can you suggest some reason for better performance of one model over the other?\n",
        "metrics.accuracy_score(Y_test,y_predict)\n",
        "accuracy\n",
        "#obviously Multinomial  NB Classifier performed well.\n"
      ],
      "execution_count": null,
      "outputs": [
        {
          "output_type": "execute_result",
          "data": {
            "text/plain": [
              "0.9449275362318841"
            ]
          },
          "metadata": {},
          "execution_count": 24
        }
      ],
      "metadata": {
        "datalore": {
          "node_id": "OXkV2RFBF1Ld7DQFVa6083",
          "type": "CODE",
          "hide_input_from_viewers": true,
          "hide_output_from_viewers": true
        },
        "id": "tiVtBTUuvnVF",
        "colab": {
          "base_uri": "https://localhost:8080/"
        },
        "outputId": "d2a60880-2ffb-4185-b95e-419d260b3ba3"
      }
    },
    {
      "cell_type": "markdown",
      "source": [
        "Multinomial  NB Classifier performed well. Well this is two dimensional binary data. Multinomial assumes all features are independent\n",
        "Svm finds correlations between features.\n"
      ],
      "metadata": {
        "id": "bST71XMCIPWX"
      }
    },
    {
      "cell_type": "markdown",
      "source": [
        "## Bonus Question"
      ],
      "metadata": {
        "datalore": {
          "node_id": "ZaqRxhVmJPCcmG1rd2ksQs",
          "type": "MD",
          "hide_input_from_viewers": true,
          "hide_output_from_viewers": true
        },
        "id": "N586r2ijvnVG"
      }
    },
    {
      "cell_type": "code",
      "source": [
        "# Given a string. Try to create the dataset having each word of dataset as column and row values as the frequency of that word.\n",
        "# For example\n",
        "from collections import defaultdict\n",
        "s = \"I am a Python developer and currently working on a project to classify mails\"\n",
        "# dataframe = {\"I\" : 1,\n",
        "#              \"am\" :1,\n",
        "#              \"a\" : 2,\n",
        "#               ...}\n",
        "l= s.split()\n",
        "# count the frequency of eachword\n",
        "word_counts= defaultdict(int)\n",
        "for i in l:\n",
        "  word_counts[i]+=1\n",
        "\n",
        "#creteing a dataframe with word freq\n",
        "dataframe= pd.DataFrame.from_dict(word_counts,orient=\"index\",columns=['Freq'])\n",
        "\n",
        "dataframe"
      ],
      "execution_count": null,
      "outputs": [
        {
          "output_type": "execute_result",
          "data": {
            "text/plain": [
              "           Freq\n",
              "I             1\n",
              "am            1\n",
              "a             2\n",
              "Python        1\n",
              "developer     1\n",
              "and           1\n",
              "currently     1\n",
              "working       1\n",
              "on            1\n",
              "project       1\n",
              "to            1\n",
              "classify      1\n",
              "mails         1"
            ],
            "text/html": [
              "\n",
              "  <div id=\"df-5201ab2c-a8a1-48b9-b7b4-f472dd3e1d68\">\n",
              "    <div class=\"colab-df-container\">\n",
              "      <div>\n",
              "<style scoped>\n",
              "    .dataframe tbody tr th:only-of-type {\n",
              "        vertical-align: middle;\n",
              "    }\n",
              "\n",
              "    .dataframe tbody tr th {\n",
              "        vertical-align: top;\n",
              "    }\n",
              "\n",
              "    .dataframe thead th {\n",
              "        text-align: right;\n",
              "    }\n",
              "</style>\n",
              "<table border=\"1\" class=\"dataframe\">\n",
              "  <thead>\n",
              "    <tr style=\"text-align: right;\">\n",
              "      <th></th>\n",
              "      <th>Freq</th>\n",
              "    </tr>\n",
              "  </thead>\n",
              "  <tbody>\n",
              "    <tr>\n",
              "      <th>I</th>\n",
              "      <td>1</td>\n",
              "    </tr>\n",
              "    <tr>\n",
              "      <th>am</th>\n",
              "      <td>1</td>\n",
              "    </tr>\n",
              "    <tr>\n",
              "      <th>a</th>\n",
              "      <td>2</td>\n",
              "    </tr>\n",
              "    <tr>\n",
              "      <th>Python</th>\n",
              "      <td>1</td>\n",
              "    </tr>\n",
              "    <tr>\n",
              "      <th>developer</th>\n",
              "      <td>1</td>\n",
              "    </tr>\n",
              "    <tr>\n",
              "      <th>and</th>\n",
              "      <td>1</td>\n",
              "    </tr>\n",
              "    <tr>\n",
              "      <th>currently</th>\n",
              "      <td>1</td>\n",
              "    </tr>\n",
              "    <tr>\n",
              "      <th>working</th>\n",
              "      <td>1</td>\n",
              "    </tr>\n",
              "    <tr>\n",
              "      <th>on</th>\n",
              "      <td>1</td>\n",
              "    </tr>\n",
              "    <tr>\n",
              "      <th>project</th>\n",
              "      <td>1</td>\n",
              "    </tr>\n",
              "    <tr>\n",
              "      <th>to</th>\n",
              "      <td>1</td>\n",
              "    </tr>\n",
              "    <tr>\n",
              "      <th>classify</th>\n",
              "      <td>1</td>\n",
              "    </tr>\n",
              "    <tr>\n",
              "      <th>mails</th>\n",
              "      <td>1</td>\n",
              "    </tr>\n",
              "  </tbody>\n",
              "</table>\n",
              "</div>\n",
              "      <button class=\"colab-df-convert\" onclick=\"convertToInteractive('df-5201ab2c-a8a1-48b9-b7b4-f472dd3e1d68')\"\n",
              "              title=\"Convert this dataframe to an interactive table.\"\n",
              "              style=\"display:none;\">\n",
              "        \n",
              "  <svg xmlns=\"http://www.w3.org/2000/svg\" height=\"24px\"viewBox=\"0 0 24 24\"\n",
              "       width=\"24px\">\n",
              "    <path d=\"M0 0h24v24H0V0z\" fill=\"none\"/>\n",
              "    <path d=\"M18.56 5.44l.94 2.06.94-2.06 2.06-.94-2.06-.94-.94-2.06-.94 2.06-2.06.94zm-11 1L8.5 8.5l.94-2.06 2.06-.94-2.06-.94L8.5 2.5l-.94 2.06-2.06.94zm10 10l.94 2.06.94-2.06 2.06-.94-2.06-.94-.94-2.06-.94 2.06-2.06.94z\"/><path d=\"M17.41 7.96l-1.37-1.37c-.4-.4-.92-.59-1.43-.59-.52 0-1.04.2-1.43.59L10.3 9.45l-7.72 7.72c-.78.78-.78 2.05 0 2.83L4 21.41c.39.39.9.59 1.41.59.51 0 1.02-.2 1.41-.59l7.78-7.78 2.81-2.81c.8-.78.8-2.07 0-2.86zM5.41 20L4 18.59l7.72-7.72 1.47 1.35L5.41 20z\"/>\n",
              "  </svg>\n",
              "      </button>\n",
              "      \n",
              "  <style>\n",
              "    .colab-df-container {\n",
              "      display:flex;\n",
              "      flex-wrap:wrap;\n",
              "      gap: 12px;\n",
              "    }\n",
              "\n",
              "    .colab-df-convert {\n",
              "      background-color: #E8F0FE;\n",
              "      border: none;\n",
              "      border-radius: 50%;\n",
              "      cursor: pointer;\n",
              "      display: none;\n",
              "      fill: #1967D2;\n",
              "      height: 32px;\n",
              "      padding: 0 0 0 0;\n",
              "      width: 32px;\n",
              "    }\n",
              "\n",
              "    .colab-df-convert:hover {\n",
              "      background-color: #E2EBFA;\n",
              "      box-shadow: 0px 1px 2px rgba(60, 64, 67, 0.3), 0px 1px 3px 1px rgba(60, 64, 67, 0.15);\n",
              "      fill: #174EA6;\n",
              "    }\n",
              "\n",
              "    [theme=dark] .colab-df-convert {\n",
              "      background-color: #3B4455;\n",
              "      fill: #D2E3FC;\n",
              "    }\n",
              "\n",
              "    [theme=dark] .colab-df-convert:hover {\n",
              "      background-color: #434B5C;\n",
              "      box-shadow: 0px 1px 3px 1px rgba(0, 0, 0, 0.15);\n",
              "      filter: drop-shadow(0px 1px 2px rgba(0, 0, 0, 0.3));\n",
              "      fill: #FFFFFF;\n",
              "    }\n",
              "  </style>\n",
              "\n",
              "      <script>\n",
              "        const buttonEl =\n",
              "          document.querySelector('#df-5201ab2c-a8a1-48b9-b7b4-f472dd3e1d68 button.colab-df-convert');\n",
              "        buttonEl.style.display =\n",
              "          google.colab.kernel.accessAllowed ? 'block' : 'none';\n",
              "\n",
              "        async function convertToInteractive(key) {\n",
              "          const element = document.querySelector('#df-5201ab2c-a8a1-48b9-b7b4-f472dd3e1d68');\n",
              "          const dataTable =\n",
              "            await google.colab.kernel.invokeFunction('convertToInteractive',\n",
              "                                                     [key], {});\n",
              "          if (!dataTable) return;\n",
              "\n",
              "          const docLinkHtml = 'Like what you see? Visit the ' +\n",
              "            '<a target=\"_blank\" href=https://colab.research.google.com/notebooks/data_table.ipynb>data table notebook</a>'\n",
              "            + ' to learn more about interactive tables.';\n",
              "          element.innerHTML = '';\n",
              "          dataTable['output_type'] = 'display_data';\n",
              "          await google.colab.output.renderOutput(dataTable, element);\n",
              "          const docLink = document.createElement('div');\n",
              "          docLink.innerHTML = docLinkHtml;\n",
              "          element.appendChild(docLink);\n",
              "        }\n",
              "      </script>\n",
              "    </div>\n",
              "  </div>\n",
              "  "
            ]
          },
          "metadata": {},
          "execution_count": 25
        }
      ],
      "metadata": {
        "datalore": {
          "node_id": "AlYkiwHK5HWuVKBPZBPTuj",
          "type": "CODE",
          "hide_input_from_viewers": true,
          "hide_output_from_viewers": true
        },
        "id": "OcPPmplsvnVG",
        "colab": {
          "base_uri": "https://localhost:8080/",
          "height": 457
        },
        "outputId": "be0e4aee-5cad-4501-edcb-3d11b45a496f"
      }
    }
  ],
  "metadata": {
    "kernelspec": {
      "display_name": "Python",
      "language": "python",
      "name": "python"
    },
    "datalore": {
      "computation_mode": "JUPYTER",
      "package_manager": "pip",
      "base_environment": "default",
      "packages": [],
      "report_row_ids": [],
      "version": 3
    },
    "colab": {
      "provenance": [],
      "include_colab_link": true
    }
  },
  "nbformat": 4,
  "nbformat_minor": 0
}